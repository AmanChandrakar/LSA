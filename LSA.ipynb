{
 "cells": [
  {
   "cell_type": "markdown",
   "metadata": {},
   "source": [
    "# Latent Semantic Analysis\n",
    "LSA on a group of newsgroup posts from the newsgroup 'rec.sport.baseball.' "
   ]
  },
  {
   "cell_type": "code",
   "execution_count": 74,
   "metadata": {
    "collapsed": false
   },
   "outputs": [
    {
     "name": "stdout",
     "output_type": "stream",
     "text": [
      "\n"
     ]
    }
   ],
   "source": [
    "from sklearn.datasets import fetch_20newsgroups\n",
    "import nltk\n",
    "from nltk.corpus import stopwords\n",
    "from sklearn.feature_extraction.text import TfidfVectorizer\n",
    "from sklearn.decomposition import TruncatedSVD\n"
   ]
  },
  {
   "cell_type": "code",
   "execution_count": 21,
   "metadata": {
    "collapsed": true
   },
   "outputs": [],
   "source": [
    "categories = ['rec.sport.baseball']\n",
    "dataset = fetch_20newsgroups(subset='all',shuffle=True, random_state=42, categories=categories)\n",
    "corpus = dataset.data"
   ]
  },
  {
   "cell_type": "code",
   "execution_count": 8,
   "metadata": {
    "collapsed": false
   },
   "outputs": [
    {
     "name": "stdout",
     "output_type": "stream",
     "text": [
      "[nltk_data] Downloading package stopwords to\n",
      "[nltk_data]     C:\\Users\\test\\AppData\\Roaming\\nltk_data...\n",
      "[nltk_data]   Unzipping corpora\\stopwords.zip.\n"
     ]
    },
    {
     "data": {
      "text/plain": [
       "True"
      ]
     },
     "execution_count": 8,
     "metadata": {},
     "output_type": "execute_result"
    }
   ],
   "source": [
    "nltk.download('stopwords')"
   ]
  },
  {
   "cell_type": "code",
   "execution_count": 38,
   "metadata": {
    "collapsed": false
   },
   "outputs": [],
   "source": [
    "corpus = [x.lower() for x in corpus]"
   ]
  },
  {
   "cell_type": "markdown",
   "metadata": {},
   "source": [
    "List of stopwords that needs to be cleaned out:"
   ]
  },
  {
   "cell_type": "code",
   "execution_count": 96,
   "metadata": {
    "collapsed": true
   },
   "outputs": [],
   "source": [
    "stopset = set(stopwords.words('english'))\n",
    "stopset.update(['roger lustig','stephenson','jack morris','mike jones','roger maynard','barry walker','david robert walker','nntp','michael lurie','bruce kleinman', \n",
    "                'dale stephenson','doug ritter','keith keller','chuq von rospach','danny smith', 'edward [ted] fischer', 'roger maynard', 'villanueva huckabay', 'charles m kozierok', 'greg spira'\n",
    "                'david barrington','russell earnest','ted frank','greg spira','neal traven','machman','robert holt','mark singer','joe carter', 'marty olevitch','alan sepinwall', 'joe cipale', 'douglas fowler'\n",
    "                'mary cole','richard','letter', 'roman','vaughn','dan bergmann','theodore j kury','gerald lanza','joseph hernandez','neal traven', 'jody hagins', 'gary wieman', 'jim clouse','orin roth','david rex wood', \n",
    "                'david plurad','james kahn','eric roush','doug roberts','doug bone', 'roger maynard', 'mike silverman', 'scott barman', 'eric roush', 'robert holt',\n",
    "                'marty olevitch','alan sepinwall','joe cipale','douglas fowler','chuck klein','john mcgraw','mark davis','greg spira','pablo a iglesias', 'mike jones','jiann-ming su', '!!', 'dark wing duck'\n",
    "                'thomas m. keith','little','russell earnest', 'kim krattiger','mark singer','robert and stimets','pinch-hitter','howard johnson','\\t','will clark', 'rbi-home', 'scott barman', 'ted frank',':-', \n",
    "                'mike fester','^c','exit', 'help','quit','~q','sherri nichols','net','michael lurie','bad move','thanks','advance','\\n','<','>','\\n5','imho','phillies','nadd','list','points ','kevin hansen',\n",
    "                'michael lurie','harold_brooks','bobby bonds'])\n"
   ]
  },
  {
   "cell_type": "markdown",
   "metadata": {},
   "source": [
    "# TF-IDF Vectorizing"
   ]
  },
  {
   "cell_type": "code",
   "execution_count": 113,
   "metadata": {
    "collapsed": false
   },
   "outputs": [
    {
     "data": {
      "text/plain": [
       "u\"from: writingctr@leo.bsuvc.bsu.edu\\nsubject: re: cub fever.\\norganization: ball state university, muncie, in - univ. computing svc's\\nlines: 21\\n\\n\\nin article <kingoz.735285670@camelot>, kingoz@camelot.bradley.edu (orin roth) writes:\\n> \\n>    cub fever is hitting me again. i'm beginning to think they have a \\n>    chance this year. (what the heck am i thinking?)\\n>    sorry. just a moment of incompetence.\\n>    i'll be ok. really. \\n>    orin.\\n>    bradley u.\\n> \\n> --\\n> i'm really a jester in disguise!                                   \\ni hear ya!  then again, we must remember that we are indeed cub fans, and\\nthat the cubs will eventually blow it.  after all, the cubs are the easiest\\nteam in the national league to root for.  no pressure.  you know they will\\nlose eventually.  oh well, i suppose we must have faith.  after all, they\\ndo look pretty good, and they don't even have sandberg back yet.  \\n\\ncubs in '93!!!!!\\n\\ncha\\n\""
      ]
     },
     "execution_count": 113,
     "metadata": {},
     "output_type": "execute_result"
    }
   ],
   "source": [
    "corpus[0]"
   ]
  },
  {
   "cell_type": "code",
   "execution_count": 98,
   "metadata": {
    "collapsed": true
   },
   "outputs": [],
   "source": [
    "vectorizer = TfidfVectorizer(stop_words=stopset,\n",
    "                                 use_idf=True, ngram_range=(1, 3))\n",
    "V = vectorizer.fit_transform(corpus)"
   ]
  },
  {
   "cell_type": "code",
   "execution_count": 99,
   "metadata": {
    "collapsed": false
   },
   "outputs": [
    {
     "data": {
      "text/plain": [
       "<1x188697 sparse matrix of type '<type 'numpy.float64'>'\n",
       "\twith 232 stored elements in Compressed Sparse Row format>"
      ]
     },
     "execution_count": 99,
     "metadata": {},
     "output_type": "execute_result"
    }
   ],
   "source": [
    "V[0]"
   ]
  },
  {
   "cell_type": "code",
   "execution_count": 54,
   "metadata": {
    "collapsed": false
   },
   "outputs": [
    {
     "name": "stdout",
     "output_type": "stream",
     "text": [
      "  (0, 52174)\t0.0736529425813\n",
      "  (0, 187973)\t0.0736529425813\n",
      "  (0, 29633)\t0.0736529425813\n",
      "  (0, 145587)\t0.0736529425813\n",
      "  (0, 64816)\t0.0736529425813\n",
      "  (0, 78555)\t0.0736529425813\n",
      "  (0, 132910)\t0.0736529425813\n",
      "  (0, 103146)\t0.0736529425813\n",
      "  (0, 67193)\t0.0736529425813\n",
      "  (0, 114261)\t0.0736529425813\n",
      "  (0, 162430)\t0.0736529425813\n",
      "  (0, 179977)\t0.0736529425813\n",
      "  (0, 119547)\t0.0736529425813\n",
      "  (0, 64954)\t0.0736529425813\n",
      "  (0, 103640)\t0.0736529425813\n",
      "  (0, 95761)\t0.0736529425813\n",
      "  (0, 132825)\t0.0736529425813\n",
      "  (0, 142751)\t0.0736529425813\n",
      "  (0, 98365)\t0.0736529425813\n",
      "  (0, 114901)\t0.0736529425813\n",
      "  (0, 164808)\t0.0736529425813\n",
      "  (0, 60024)\t0.0736529425813\n",
      "  (0, 52214)\t0.0736529425813\n",
      "  (0, 36405)\t0.0736529425813\n",
      "  (0, 64940)\t0.0736529425813\n",
      "  :\t:\n",
      "  (0, 142987)\t0.0553483988284\n",
      "  (0, 122214)\t0.110696797657\n",
      "  (0, 38204)\t0.0992627722187\n",
      "  (0, 41379)\t0.104818900347\n",
      "  (0, 17299)\t0.0736529425813\n",
      "  (0, 95165)\t0.110696797657\n",
      "  (0, 26455)\t0.0161247061118\n",
      "  (0, 7924)\t0.0376277831668\n",
      "  (0, 101185)\t0.010277750654\n",
      "  (0, 163019)\t0.0608547657263\n",
      "  (0, 48898)\t0.0389064448766\n",
      "  (0, 174424)\t0.0392527817854\n",
      "  (0, 114059)\t0.0608547657263\n",
      "  (0, 174460)\t0.0179872959129\n",
      "  (0, 158095)\t0.0373316476385\n",
      "  (0, 30155)\t0.0306979693603\n",
      "  (0, 121599)\t0.0102984307428\n",
      "  (0, 68751)\t0.124859125929\n",
      "  (0, 52096)\t0.161320804771\n",
      "  (0, 160947)\t0.0102159603827\n",
      "  (0, 60525)\t0.0237948155601\n",
      "  (0, 39446)\t0.0506538347569\n",
      "  (0, 39456)\t0.0506538347569\n",
      "  (0, 99384)\t0.0496313861093\n",
      "  (0, 185459)\t0.0736529425813\n"
     ]
    }
   ],
   "source": [
    "print V[0]"
   ]
  },
  {
   "cell_type": "code",
   "execution_count": 100,
   "metadata": {
    "collapsed": false
   },
   "outputs": [
    {
     "data": {
      "text/plain": [
       "(994, 188697)"
      ]
     },
     "execution_count": 100,
     "metadata": {},
     "output_type": "execute_result"
    }
   ],
   "source": [
    "V.shape"
   ]
  },
  {
   "cell_type": "code",
   "execution_count": 102,
   "metadata": {
    "collapsed": false
   },
   "outputs": [
    {
     "data": {
      "text/plain": [
       "TruncatedSVD(algorithm='randomized', n_components=30, n_iter=100,\n",
       "       random_state=None, tol=0.0)"
      ]
     },
     "execution_count": 102,
     "metadata": {},
     "output_type": "execute_result"
    }
   ],
   "source": [
    "lsa = TruncatedSVD(n_components=30, n_iter=100)\n",
    "lsa.fit(V)"
   ]
  },
  {
   "cell_type": "code",
   "execution_count": 103,
   "metadata": {
    "collapsed": false
   },
   "outputs": [
    {
     "data": {
      "text/plain": [
       "array([ 0.01636064,  0.00513592,  0.00081192, ...,  0.00104032,\n",
       "        0.00104032,  0.00104032])"
      ]
     },
     "execution_count": 103,
     "metadata": {},
     "output_type": "execute_result"
    }
   ],
   "source": [
    "lsa.components_[0]"
   ]
  },
  {
   "cell_type": "code",
   "execution_count": 104,
   "metadata": {
    "collapsed": false
   },
   "outputs": [
    {
     "name": "stdout",
     "output_type": "stream",
     "text": [
      "2.7.12 |Anaconda 4.1.1 (32-bit)| (default, Jun 29 2016, 11:42:13) [MSC v.1500 32 bit (Intel)]\n"
     ]
    }
   ],
   "source": [
    "import sys\n",
    "print (sys.version)\n"
   ]
  },
  {
   "cell_type": "code",
   "execution_count": 111,
   "metadata": {
    "collapsed": false
   },
   "outputs": [
    {
     "name": "stdout",
     "output_type": "stream",
     "text": [
      " Concept 0:\n",
      "edu\n",
      "com\n",
      "year\n",
      "writes\n",
      "team\n",
      "would\n",
      "game\n",
      "article\n",
      "cs\n",
      "baseball\n",
      " \n",
      "Concept 1:\n",
      "lines\n",
      "baseball\n",
      "come\n",
      "00 00 000\n",
      "jewish\n",
      "edu\n",
      "jewish baseball\n",
      "edu vb30\n",
      "lafayette edu\n",
      "lafayette edu vb30\n",
      " \n",
      "Concept 2:\n",
      "com\n",
      "university\n",
      "games\n",
      "going\n",
      "00 00 american\n",
      "much\n",
      "scott\n",
      "baseball\n",
      "world\n",
      "better\n",
      " \n",
      "Concept 3:\n",
      "team\n",
      "jewish\n",
      "players\n",
      "say\n",
      "morris\n",
      "roger\n",
      "many\n",
      "00\n",
      "good\n",
      "pitcher\n",
      " \n",
      "Concept 4:\n",
      "team\n",
      "morris\n",
      "games\n",
      "aix\n",
      "anyone\n",
      "baseball\n",
      "league\n",
      "kingston\n",
      "base\n",
      "right\n",
      " \n",
      "Concept 5:\n",
      "good\n",
      "edu\n",
      "braves\n",
      "like\n",
      "gant\n",
      "go\n",
      "hirschbeck\n",
      "get\n",
      "see\n",
      "00 00 chicago\n",
      " \n",
      "Concept 6:\n",
      "edu\n",
      "00\n",
      "first\n",
      "game\n",
      "games\n",
      "posting\n",
      "roger\n",
      "mets\n",
      "better\n",
      "princeton edu\n",
      " \n",
      "Concept 7:\n",
      "00\n",
      "team\n",
      "00 00\n",
      "would\n",
      "well\n",
      "home\n",
      "university\n",
      "00 00 00\n",
      "hit\n",
      "mail\n",
      " \n",
      "Concept 8:\n",
      "00\n",
      "00 00\n",
      "00 00 00\n",
      "know\n",
      "could\n",
      "last\n",
      "00 00 chicago\n",
      "season\n",
      "back\n",
      "00 00 000\n",
      " \n",
      "Concept 9:\n",
      "team\n",
      "braves\n",
      "00\n",
      "pitching\n",
      "game\n",
      "games\n",
      "00 00 000\n",
      "probably\n",
      "two\n",
      "ca\n",
      " \n",
      "Concept 10:\n",
      "team\n",
      "players\n",
      "university\n",
      "long\n",
      "last\n",
      "season\n",
      "well\n",
      "like\n",
      "get\n",
      "would\n",
      " \n",
      "Concept 11:\n",
      "game\n",
      "com\n",
      "could\n",
      "good\n",
      "run\n",
      "pitching\n",
      "writes\n",
      "games\n",
      "also\n",
      "host\n",
      " \n",
      "Concept 12:\n",
      "baseball\n",
      "get\n",
      "game\n",
      "first\n",
      "00\n",
      "ibm\n",
      "also\n",
      "netcom\n",
      "think\n",
      "one\n",
      " \n",
      "Concept 13:\n",
      "year\n",
      "games\n",
      "host\n",
      "organization\n",
      "university\n",
      "ibm\n",
      "years\n",
      "news\n",
      "williams\n",
      "record\n",
      " \n",
      "Concept 14:\n",
      "time\n",
      "many\n",
      "subject\n",
      "roger\n",
      "run\n",
      "league\n",
      "still\n",
      "lines\n",
      "university\n",
      "00\n",
      " \n",
      "Concept 15:\n",
      "year\n",
      "host\n",
      "last\n",
      "one\n",
      "team\n",
      "game\n",
      "like\n",
      "hit\n",
      "best\n",
      "much\n",
      " \n",
      "Concept 16:\n",
      "career\n",
      "hitting\n",
      "new\n",
      "first\n",
      "win\n",
      "00 00 000\n",
      "edu\n",
      "go\n",
      "team\n",
      "better\n",
      " \n",
      "Concept 17:\n",
      "first\n",
      "posting\n",
      "cs\n",
      "would\n",
      "lines\n",
      "think\n",
      "players\n",
      "last\n",
      "netcom\n",
      "braves\n",
      " \n",
      "Concept 18:\n",
      "team\n",
      "article\n",
      "think\n",
      "one\n",
      "really\n",
      "way\n",
      "00 00 01\n",
      "com\n",
      "since\n",
      "runs\n",
      " \n",
      "Concept 19:\n",
      "com\n",
      "year\n",
      "writes\n",
      "00 00 american\n",
      "like\n",
      "time\n",
      "good\n",
      "go\n",
      "would\n",
      "posting host\n",
      " \n",
      "Concept 20:\n",
      "year\n",
      "good\n",
      "com\n",
      "people\n",
      "red\n",
      "hit\n",
      "say\n",
      "better\n",
      "writes\n",
      "base\n",
      " \n",
      "Concept 21:\n",
      "would\n",
      "university\n",
      "baseball\n",
      "think\n",
      "team\n",
      "posting host\n",
      "back\n",
      "lines\n",
      "good\n",
      "people\n",
      " \n",
      "Concept 22:\n",
      "first\n",
      "com\n",
      "university\n",
      "posting\n",
      "writes\n",
      "season\n",
      "00 00 01\n",
      "really\n",
      "hit\n",
      "run\n",
      " \n",
      "Concept 23:\n",
      "organization\n",
      "edu\n",
      "one\n",
      "jewish\n",
      "baseball\n",
      "game\n",
      "article\n",
      "make\n",
      "season\n",
      "writes\n",
      " \n",
      "Concept 24:\n",
      "year\n",
      "article\n",
      "com\n",
      "00 00 000\n",
      "posting host\n",
      "players\n",
      "university\n",
      "edu\n",
      "also\n",
      "world\n",
      " \n",
      "Concept 25:\n",
      "com\n",
      "subject\n",
      "baseball\n",
      "organization university\n",
      "get\n",
      "team\n",
      "well\n",
      "pitching\n",
      "said\n",
      "let\n",
      " \n",
      "Concept 26:\n",
      "think\n",
      "game\n",
      "would\n",
      "com\n",
      "organization\n",
      "baseball\n",
      "go\n",
      "00 00 chicago\n",
      "really\n",
      "hit\n",
      " \n",
      "Concept 27:\n",
      "00 00 american\n",
      "posting host\n",
      "get\n",
      "00 00 chicago\n",
      "could\n",
      "00 00 01\n",
      "00 00 00\n",
      "league\n",
      "also\n",
      "last\n",
      " \n",
      "Concept 28:\n",
      "organization\n",
      "00 00 000\n",
      "say\n",
      "00 00 chicago\n",
      "good\n",
      "runs\n",
      "two\n",
      "edu\n",
      "host\n",
      "hit\n",
      " \n",
      "Concept 29:\n",
      "writes\n",
      "article\n",
      "posting\n",
      "last\n",
      "like\n",
      "time\n",
      "better\n",
      "lot\n",
      "good\n",
      "player\n",
      " \n"
     ]
    }
   ],
   "source": [
    "terms = vectorizer.get_feature_names()\n",
    "for i, comp in enumerate(lsa.components_): \n",
    "    termsInComp = zip (terms,comp)\n",
    "    sortedTerms =  sorted(termsInComp, key=lambda x: x[1], reverse=True) [:10]\n",
    "    print \"Concept %d:\" % i\n",
    "    for term in sortedTerms:\n",
    "        print term[0]\n",
    "    print \" \""
   ]
  },
  {
   "cell_type": "markdown",
   "metadata": {},
   "source": [
    "If we look at the above output we can see that the post is about sports baseball."
   ]
  },
  {
   "cell_type": "code",
   "execution_count": 112,
   "metadata": {
    "collapsed": false
   },
   "outputs": [
    {
     "data": {
      "text/plain": [
       "array([[ 0.01636064,  0.00513592,  0.00081192, ...,  0.00104032,\n",
       "         0.00104032,  0.00104032],\n",
       "       [ 0.0234435 ,  0.0296433 ,  0.06123681, ...,  0.00075697,\n",
       "         0.00075697,  0.00075697],\n",
       "       [ 0.04642164, -0.00117314, -0.03901243, ...,  0.00232903,\n",
       "         0.00232903,  0.00232903],\n",
       "       ..., \n",
       "       [-0.07619428,  0.011544  ,  0.12635155, ...,  0.00026859,\n",
       "         0.00026859,  0.00026859],\n",
       "       [-0.02844264,  0.03481013, -0.04127208, ..., -0.00017793,\n",
       "        -0.00017793, -0.00017793],\n",
       "       [-0.01425619, -0.00248094,  0.05304812, ...,  0.00082623,\n",
       "         0.00082623,  0.00082623]])"
      ]
     },
     "execution_count": 112,
     "metadata": {},
     "output_type": "execute_result"
    }
   ],
   "source": [
    "lsa.components_"
   ]
  },
  {
   "cell_type": "code",
   "execution_count": null,
   "metadata": {
    "collapsed": true
   },
   "outputs": [],
   "source": []
  }
 ],
 "metadata": {
  "anaconda-cloud": {},
  "kernelspec": {
   "display_name": "Python [Root]",
   "language": "python",
   "name": "Python [Root]"
  },
  "language_info": {
   "codemirror_mode": {
    "name": "ipython",
    "version": 2
   },
   "file_extension": ".py",
   "mimetype": "text/x-python",
   "name": "python",
   "nbconvert_exporter": "python",
   "pygments_lexer": "ipython2",
   "version": "2.7.12"
  }
 },
 "nbformat": 4,
 "nbformat_minor": 0
}
