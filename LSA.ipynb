{
 "cells": [
  {
   "cell_type": "markdown",
   "metadata": {},
   "source": [
    "# Latent Semantic Analysis\n",
    "LSA on a group of newsgroup posts from the newsgroup 'rec.sport.baseball.' "
   ]
  },
  {
   "cell_type": "code",
   "execution_count": 74,
   "metadata": {
    "collapsed": false
   },
   "outputs": [
    {
     "name": "stdout",
     "output_type": "stream",
     "text": [
      "\n"
     ]
    }
   ],
   "source": [
    "from sklearn.datasets import fetch_20newsgroups\n",
    "import nltk\n",
    "from nltk.corpus import stopwords\n",
    "from sklearn.feature_extraction.text import TfidfVectorizer\n",
    "from sklearn.decomposition import TruncatedSVD\n"
   ]
  },
  {
   "cell_type": "code",
   "execution_count": 21,
   "metadata": {
    "collapsed": true
   },
   "outputs": [],
   "source": [
    "categories = ['rec.sport.baseball']\n",
    "dataset = fetch_20newsgroups(subset='all',shuffle=True, random_state=42, categories=categories)\n",
    "corpus = dataset.data"
   ]
  },
  {
   "cell_type": "code",
   "execution_count": 8,
   "metadata": {
    "collapsed": false
   },
   "outputs": [
    {
     "name": "stdout",
     "output_type": "stream",
     "text": [
      "[nltk_data] Downloading package stopwords to\n",
      "[nltk_data]     C:\\Users\\test\\AppData\\Roaming\\nltk_data...\n",
      "[nltk_data]   Unzipping corpora\\stopwords.zip.\n"
     ]
    },
    {
     "data": {
      "text/plain": [
       "True"
      ]
     },
     "execution_count": 8,
     "metadata": {},
     "output_type": "execute_result"
    }
   ],
   "source": [
    "nltk.download('stopwords')"
   ]
  },
  {
   "cell_type": "code",
   "execution_count": 38,
   "metadata": {
    "collapsed": false
   },
   "outputs": [],
   "source": [
    "corpus = [x.lower() for x in corpus]"
   ]
  },
  {
   "cell_type": "markdown",
   "metadata": {},
   "source": [
    "List of stopwords that needs to be cleaned out:"
   ]
  },
  {
   "cell_type": "code",
   "execution_count": 188,
   "metadata": {
    "collapsed": false
   },
   "outputs": [],
   "source": [
    "stopset = set(stopwords.words('english'))\n",
    "stopset.update(['roger lustig','stephenson','jack morris','mike jones','roger maynard','barry walker','david robert walker','nntp','michael lurie','bruce kleinman', \n",
    "                'dale stephenson','doug ritter','keith keller','chuq von rospach','danny smith', 'edward [ted] fischer', 'roger maynard', 'villanueva huckabay', 'charles m kozierok', 'greg spira'\n",
    "                'david barrington','russell earnest','ted frank','greg spira','neal traven','machman','robert holt','mark singer','joe carter', 'marty olevitch','alan sepinwall', 'joe cipale', 'douglas fowler'\n",
    "                'mary cole','richard','letter', 'roman','vaughn','dan bergmann','theodore j kury','gerald lanza','joseph hernandez','neal traven', 'jody hagins', 'gary wieman', 'jim clouse','orin roth','david rex wood', \n",
    "                'david plurad','james kahn','eric roush','doug roberts','doug bone', 'roger maynard', 'mike silverman', 'scott barman', 'eric roush', 'robert holt',\n",
    "                'marty olevitch','alan sepinwall','joe cipale','douglas fowler','chuck klein','john mcgraw','mark davis','greg spira','pablo a iglesias', 'mike jones','jiann-ming su', '!!', 'dark wing duck'\n",
    "                'thomas m. keith','little','russell earnest', 'kim krattiger','mark singer','robert and stimets','pinch-hitter','howard johnson','\\t','will clark', 'rbi-home', 'scott barman', 'ted frank',':-', \n",
    "                'mike fester','^c','exit', 'help','quit','~q','sherri nichols','net','michael lurie','bad move','thanks','advance','\\n','<','>','\\n5','imho','phillies','nadd','list','points ','kevin hansen',\n",
    "                'michael lurie','harold_brooks','bobby bonds','00','000','better','still','like','maybe','much','would','com','edu','cs', 'really','let','see','go','0','ca','aix','may','well','could','sos',\n",
    "                '0000','netcom','jays','sox','ted','way','lot','001','100','say','vb30','clemens','0010','000th',])\n"
   ]
  },
  {
   "cell_type": "markdown",
   "metadata": {},
   "source": [
    "# TF-IDF Vectorizing"
   ]
  },
  {
   "cell_type": "code",
   "execution_count": 189,
   "metadata": {
    "collapsed": false
   },
   "outputs": [
    {
     "data": {
      "text/plain": [
       "u\"from: writingctr@leo.bsuvc.bsu.edu\\nsubject: re: cub fever.\\norganization: ball state university, muncie, in - univ. computing svc's\\nlines: 21\\n\\n\\nin article <kingoz.735285670@camelot>, kingoz@camelot.bradley.edu (orin roth) writes:\\n> \\n>    cub fever is hitting me again. i'm beginning to think they have a \\n>    chance this year. (what the heck am i thinking?)\\n>    sorry. just a moment of incompetence.\\n>    i'll be ok. really. \\n>    orin.\\n>    bradley u.\\n> \\n> --\\n> i'm really a jester in disguise!                                   \\ni hear ya!  then again, we must remember that we are indeed cub fans, and\\nthat the cubs will eventually blow it.  after all, the cubs are the easiest\\nteam in the national league to root for.  no pressure.  you know they will\\nlose eventually.  oh well, i suppose we must have faith.  after all, they\\ndo look pretty good, and they don't even have sandberg back yet.  \\n\\ncubs in '93!!!!!\\n\\ncha\\n\""
      ]
     },
     "execution_count": 189,
     "metadata": {},
     "output_type": "execute_result"
    }
   ],
   "source": [
    "corpus[0]"
   ]
  },
  {
   "cell_type": "code",
   "execution_count": 190,
   "metadata": {
    "collapsed": true
   },
   "outputs": [],
   "source": [
    "vectorizer = TfidfVectorizer(stop_words=stopset,\n",
    "                                 use_idf=True, ngram_range=(1, 3))\n",
    "V = vectorizer.fit_transform(corpus)"
   ]
  },
  {
   "cell_type": "code",
   "execution_count": 191,
   "metadata": {
    "collapsed": false
   },
   "outputs": [
    {
     "data": {
      "text/plain": [
       "<1x181848 sparse matrix of type '<type 'numpy.float64'>'\n",
       "\twith 219 stored elements in Compressed Sparse Row format>"
      ]
     },
     "execution_count": 191,
     "metadata": {},
     "output_type": "execute_result"
    }
   ],
   "source": [
    "V[0]"
   ]
  },
  {
   "cell_type": "code",
   "execution_count": 192,
   "metadata": {
    "collapsed": false
   },
   "outputs": [
    {
     "name": "stdout",
     "output_type": "stream",
     "text": [
      "  (0, 50594)\t0.0750851183128\n",
      "  (0, 181115)\t0.0750851183128\n",
      "  (0, 29467)\t0.0750851183128\n",
      "  (0, 141025)\t0.0750851183128\n",
      "  (0, 61973)\t0.0750851183128\n",
      "  (0, 75421)\t0.0750851183128\n",
      "  (0, 128439)\t0.0750851183128\n",
      "  (0, 99367)\t0.0750851183128\n",
      "  (0, 64355)\t0.0750851183128\n",
      "  (0, 109586)\t0.0750851183128\n",
      "  (0, 156745)\t0.0750851183128\n",
      "  (0, 114909)\t0.0750851183128\n",
      "  (0, 62111)\t0.0750851183128\n",
      "  (0, 99894)\t0.0750851183128\n",
      "  (0, 92697)\t0.0750851183128\n",
      "  (0, 128340)\t0.0750851183128\n",
      "  (0, 138162)\t0.0750851183128\n",
      "  (0, 95332)\t0.0750851183128\n",
      "  (0, 110225)\t0.0750851183128\n",
      "  (0, 159146)\t0.0750851183128\n",
      "  (0, 58576)\t0.0750851183128\n",
      "  (0, 50635)\t0.0750851183128\n",
      "  (0, 35782)\t0.0750851183128\n",
      "  (0, 62097)\t0.0750851183128\n",
      "  (0, 50639)\t0.0750851183128\n",
      "  :\t:\n",
      "  (0, 177614)\t0.0158928576762\n",
      "  (0, 138411)\t0.0564246441324\n",
      "  (0, 117607)\t0.112849288265\n",
      "  (0, 37663)\t0.101192929093\n",
      "  (0, 40723)\t0.106857095699\n",
      "  (0, 16998)\t0.0750851183128\n",
      "  (0, 92086)\t0.112849288265\n",
      "  (0, 26256)\t0.0164382497661\n",
      "  (0, 7619)\t0.0383594524796\n",
      "  (0, 97402)\t0.0104776007149\n",
      "  (0, 157337)\t0.0620380819057\n",
      "  (0, 47724)\t0.0396629776667\n",
      "  (0, 168971)\t0.0400160490697\n",
      "  (0, 109381)\t0.0620380819057\n",
      "  (0, 169007)\t0.0183370574808\n",
      "  (0, 152654)\t0.038057558619\n",
      "  (0, 29992)\t0.0312948889834\n",
      "  (0, 116992)\t0.0104986829264\n",
      "  (0, 65921)\t0.127287001907\n",
      "  (0, 50516)\t0.164457675254\n",
      "  (0, 155236)\t0.0104146089366\n",
      "  (0, 38925)\t0.0516387946282\n",
      "  (0, 38946)\t0.0516387946282\n",
      "  (0, 96368)\t0.0505964645463\n",
      "  (0, 178557)\t0.0750851183128\n"
     ]
    }
   ],
   "source": [
    "print V[0]"
   ]
  },
  {
   "cell_type": "code",
   "execution_count": 193,
   "metadata": {
    "collapsed": false
   },
   "outputs": [
    {
     "data": {
      "text/plain": [
       "(994, 181848)"
      ]
     },
     "execution_count": 193,
     "metadata": {},
     "output_type": "execute_result"
    }
   ],
   "source": [
    "V.shape"
   ]
  },
  {
   "cell_type": "code",
   "execution_count": 194,
   "metadata": {
    "collapsed": false
   },
   "outputs": [
    {
     "data": {
      "text/plain": [
       "TruncatedSVD(algorithm='randomized', n_components=30, n_iter=100,\n",
       "       random_state=None, tol=0.0)"
      ]
     },
     "execution_count": 194,
     "metadata": {},
     "output_type": "execute_result"
    }
   ],
   "source": [
    "lsa = TruncatedSVD(n_components=30, n_iter=100)\n",
    "lsa.fit(V)"
   ]
  },
  {
   "cell_type": "code",
   "execution_count": 195,
   "metadata": {
    "collapsed": false
   },
   "outputs": [
    {
     "data": {
      "text/plain": [
       "array([ 0.0005917 ,  0.0005917 ,  0.0005917 , ...,  0.00117133,\n",
       "        0.00117133,  0.00117133])"
      ]
     },
     "execution_count": 195,
     "metadata": {},
     "output_type": "execute_result"
    }
   ],
   "source": [
    "lsa.components_[0]"
   ]
  },
  {
   "cell_type": "code",
   "execution_count": 196,
   "metadata": {
    "collapsed": false
   },
   "outputs": [
    {
     "name": "stdout",
     "output_type": "stream",
     "text": [
      "2.7.12 |Anaconda 4.1.1 (32-bit)| (default, Jun 29 2016, 11:42:13) [MSC v.1500 32 bit (Intel)]\n"
     ]
    }
   ],
   "source": [
    "import sys\n",
    "print (sys.version)\n"
   ]
  },
  {
   "cell_type": "code",
   "execution_count": 197,
   "metadata": {
    "collapsed": false
   },
   "outputs": [
    {
     "name": "stdout",
     "output_type": "stream",
     "text": [
      "Concept 0:\n",
      "year\n",
      "team\n",
      "game\n",
      "writes\n",
      "article\n",
      "baseball\n",
      "players\n",
      "games\n",
      "one\n",
      "good\n",
      " \n",
      "Concept 1:\n",
      "players\n",
      "jewish\n",
      "good\n",
      "lafayette\n",
      "lafibm\n",
      "bonds\n",
      "first\n",
      "002 755\n",
      "princeton\n",
      "two\n",
      " \n",
      "Concept 2:\n",
      "clutch\n",
      "posting\n",
      "many\n",
      "year\n",
      "sabo\n",
      "games\n",
      "great\n",
      "baseball\n",
      "samuel\n",
      "hit\n",
      " \n",
      "Concept 3:\n",
      "morris\n",
      "year\n",
      "ibm\n",
      "posting\n",
      "one\n",
      "blue\n",
      "season\n",
      "20\n",
      "though\n",
      "001211 18457 adobe\n",
      " \n",
      "Concept 4:\n",
      "play\n",
      "gant\n",
      "first\n",
      "hirschbeck\n",
      "ibm\n",
      "baseball\n",
      "games\n",
      "kingston\n",
      "writes\n",
      "hitter\n",
      " \n",
      "Concept 5:\n",
      "university\n",
      "players\n",
      "world\n",
      "baseball\n",
      "lines\n",
      "morris\n",
      "posting\n",
      "people\n",
      "run\n",
      "dept\n",
      " \n",
      "Concept 6:\n",
      "team\n",
      "game\n",
      "distribution\n",
      "braves\n",
      "002\n",
      "get\n",
      "university\n",
      "going\n",
      "002 755\n",
      "even\n",
      " \n",
      "Concept 7:\n",
      "year\n",
      "know\n",
      "hit\n",
      "pitching\n",
      "good\n",
      "years\n",
      "jewish\n",
      "come\n",
      "0000ahc udcps3 cps\n",
      "22\n",
      " \n",
      "Concept 8:\n",
      "games\n",
      "first\n",
      "win\n",
      "pitching\n",
      "scott\n",
      "around\n",
      "ab\n",
      "last\n",
      "bases\n",
      "time\n",
      " \n",
      "Concept 9:\n",
      "first\n",
      "win\n",
      "runs\n",
      "game\n",
      "big\n",
      "think\n",
      "hitter\n",
      "0000ahc udcps3 cps\n",
      "also\n",
      "good\n",
      " \n",
      "Concept 10:\n",
      "team\n",
      "first\n",
      "one\n",
      "last year\n",
      "ibm\n",
      "morris\n",
      "people\n",
      "001211 18457 adobe\n",
      "dave\n",
      "ever\n",
      " \n",
      "Concept 11:\n",
      "game\n",
      "even\n",
      "games\n",
      "runs\n",
      "second\n",
      "host\n",
      "made\n",
      "organization university\n",
      "many\n",
      "people\n",
      " \n",
      "Concept 12:\n",
      "think\n",
      "last year\n",
      "years\n",
      "going\n",
      "posting\n",
      "come\n",
      "hitting\n",
      "defensive\n",
      "players\n",
      "pitch\n",
      " \n",
      "Concept 13:\n",
      "hit\n",
      "article\n",
      "games\n",
      "base\n",
      "think\n",
      "writes article\n",
      "last year\n",
      "long\n",
      "know\n",
      "year\n",
      " \n",
      "Concept 14:\n",
      "runs\n",
      "first\n",
      "win\n",
      "years\n",
      "back\n",
      "players\n",
      "get\n",
      "1993\n",
      "year\n",
      "know\n",
      " \n",
      "Concept 15:\n",
      "player\n",
      "season\n",
      "david\n",
      "lines\n",
      "games\n",
      "big\n",
      "good\n",
      "think\n",
      "10\n",
      "university\n",
      " \n",
      "Concept 16:\n",
      "team\n",
      "posting host\n",
      "game\n",
      "posting\n",
      "lines\n",
      "runs\n",
      "think\n",
      "year\n",
      "next\n",
      "three\n",
      " \n",
      "Concept 17:\n",
      "best\n",
      "last\n",
      "think\n",
      "games\n",
      "ball\n",
      "got\n",
      "two\n",
      "mets\n",
      "lines\n",
      "game\n",
      " \n",
      "Concept 18:\n",
      "even\n",
      "years\n",
      "year\n",
      "average\n",
      "past\n",
      "first\n",
      "001211\n",
      "league\n",
      "john\n",
      "ball\n",
      " \n",
      "Concept 19:\n",
      "time\n",
      "get\n",
      "002 755\n",
      "001211\n",
      "braves\n",
      "001211 18457\n",
      "0000ahc udcps3 cps\n",
      "two\n",
      "ibm\n",
      "years\n",
      " \n",
      "Concept 20:\n",
      "baseball\n",
      "players\n",
      "good\n",
      "article\n",
      "hit\n",
      "posting\n",
      "years\n",
      "time\n",
      "host\n",
      "last\n",
      " \n",
      "Concept 21:\n",
      "season\n",
      "players\n",
      "people\n",
      "good\n",
      "around\n",
      "posting host\n",
      "two\n",
      "runs\n",
      "roger\n",
      "back\n",
      " \n",
      "Concept 22:\n",
      "writes\n",
      "team\n",
      "runs\n",
      "players\n",
      "article\n",
      "mark\n",
      "people\n",
      "mets\n",
      "year\n",
      "writes article\n",
      " \n",
      "Concept 23:\n",
      "team\n",
      "back\n",
      "baseball\n",
      "0000ahc udcps3 cps\n",
      "games\n",
      "posting\n",
      "subject\n",
      "even\n",
      "organization university\n",
      "game\n",
      " \n",
      "Concept 24:\n",
      "organization\n",
      "host\n",
      "even\n",
      "one\n",
      "season\n",
      "probably\n",
      "bad\n",
      "win\n",
      "games\n",
      "know\n",
      " \n",
      "Concept 25:\n",
      "001211\n",
      "001211 18457 adobe\n",
      "also\n",
      "day\n",
      "lines\n",
      "think\n",
      "002\n",
      "braves\n",
      "around\n",
      "writes\n",
      " \n",
      "Concept 26:\n",
      "host\n",
      "year\n",
      "university\n",
      "organization\n",
      "braves\n",
      "posting\n",
      "morris\n",
      "organization university\n",
      "reply\n",
      "win\n",
      " \n",
      "Concept 27:\n",
      "subject\n",
      "game\n",
      "baseball\n",
      "runs\n",
      "day\n",
      "mets\n",
      "know\n",
      "one\n",
      "002\n",
      "lines\n",
      " \n",
      "Concept 28:\n",
      "0000ahc udcps3 cps\n",
      "players\n",
      "know\n",
      "one\n",
      "team\n",
      "001211 18457\n",
      "david\n",
      "braves\n",
      "also\n",
      "mail\n",
      " \n",
      "Concept 29:\n",
      "article\n",
      "0000ahc udcps3 cps\n",
      "writes\n",
      "think\n",
      "organization\n",
      "001211\n",
      "10\n",
      "game\n",
      "players\n",
      "morris\n",
      " \n"
     ]
    }
   ],
   "source": [
    "terms = vectorizer.get_feature_names()\n",
    "for i, comp in enumerate(lsa.components_): \n",
    "    termsInComp = zip (terms,comp)\n",
    "    sortedTerms =  sorted(termsInComp, key=lambda x: x[1], reverse=True) [:10]\n",
    "    print \"Concept %d:\" % i\n",
    "    for term in sortedTerms:\n",
    "        print term[0]\n",
    "    print \" \""
   ]
  },
  {
   "cell_type": "markdown",
   "metadata": {},
   "source": [
    "If we look at the above output we can see that the post is about sports baseball."
   ]
  },
  {
   "cell_type": "code",
   "execution_count": 198,
   "metadata": {
    "collapsed": false
   },
   "outputs": [
    {
     "data": {
      "text/plain": [
       "array([[  5.91703531e-04,   5.91703531e-04,   5.91703531e-04, ...,\n",
       "          1.17132553e-03,   1.17132553e-03,   1.17132553e-03],\n",
       "       [  1.27740899e-03,  -7.77343027e-04,   2.63267826e-03, ...,\n",
       "          8.20213184e-04,   8.20213184e-04,   8.20213184e-04],\n",
       "       [  8.49957915e-04,  -6.12787764e-04,  -2.55256807e-02, ...,\n",
       "         -2.38292220e-04,  -2.38292220e-04,  -2.38292220e-04],\n",
       "       ..., \n",
       "       [  4.58376570e-03,   6.22818688e-03,   8.73449518e-03, ...,\n",
       "          2.48603400e-03,   2.48603400e-03,   2.48603400e-03],\n",
       "       [  1.98658992e-03,   3.00480413e-02,   2.51850450e-01, ...,\n",
       "          2.16956618e-04,   2.16956618e-04,   2.16956618e-04],\n",
       "       [  3.47317989e-03,   9.82606631e-03,   2.44616057e-01, ...,\n",
       "          4.13913849e-04,   4.13913849e-04,   4.13913849e-04]])"
      ]
     },
     "execution_count": 198,
     "metadata": {},
     "output_type": "execute_result"
    }
   ],
   "source": [
    "lsa.components_"
   ]
  },
  {
   "cell_type": "code",
   "execution_count": null,
   "metadata": {
    "collapsed": true
   },
   "outputs": [],
   "source": []
  }
 ],
 "metadata": {
  "anaconda-cloud": {},
  "kernelspec": {
   "display_name": "Python [Root]",
   "language": "python",
   "name": "Python [Root]"
  },
  "language_info": {
   "codemirror_mode": {
    "name": "ipython",
    "version": 2
   },
   "file_extension": ".py",
   "mimetype": "text/x-python",
   "name": "python",
   "nbconvert_exporter": "python",
   "pygments_lexer": "ipython2",
   "version": "2.7.12"
  }
 },
 "nbformat": 4,
 "nbformat_minor": 0
}
